{
 "cells": [
  {
   "cell_type": "markdown",
   "metadata": {},
   "source": [
    "# Tutorial 02: Exploring ShoreTrans Translation Types (Rollover vs Encroachment)\n",
    "\n",
    "This notebook walks you through the different profile translation types available in ShoreTrans.\n",
    "You will learn how the model behaves under various barrier responses:\n",
    "\n",
    "1. Type 1 : Full Rollover (onshore transport)\n",
    "2. Type 2 : Dune crest keeps up with sea level rise\n",
    "3. Type 3 : Rollover but maintain initial crest height\n",
    "4. Type 4 : Encroachment (offshore transport)\n",
    "\n",
    "Each type represents a different real-world coastal behavior. By the end of this tutorial, youll understand\n",
    "how to choose and configure the appropriate response type based on your site."
   ]
  },
  {
   "cell_type": "code",
   "execution_count": 1,
   "metadata": {},
   "outputs": [],
   "source": [
    "import os\n",
    "import shutil\n",
    "import subprocess\n",
    "import numpy as np\n",
    "import matplotlib.pyplot as plt\n",
    "from pathlib import Path\n",
    "\n",
    "# --- Setup tutorial environment ---\n",
    "base_dir = Path.cwd()\n",
    "tutorial_dir = base_dir\n",
    "input_dir = tutorial_dir / \"inputs\"\n",
    "output_dir = tutorial_dir / \"outputs\"\n",
    "tutorial_dir.mkdir(parents=True, exist_ok=True)\n",
    "input_dir.mkdir(exist_ok=True)\n",
    "output_dir.mkdir(exist_ok=True)\n",
    "\n",
    "# --- Copy a representative profile (e.g. low barrier with lagoon) ---\n",
    "transect_source = base_dir.parent / \"data\" / \"barrier_4.txt\"\n",
    "transect_target = input_dir / \"transect.txt\"\n",
    "shutil.copy(transect_source, transect_target);\n"
   ]
  },
  {
   "cell_type": "code",
   "execution_count": 2,
   "metadata": {},
   "outputs": [],
   "source": [
    "## add helper functions\n",
    "\n",
    "# --- Function to write parameters file ---\n",
    "def write_parameters(params: dict, filepath: Path):\n",
    "    with open(filepath, \"w\") as f:\n",
    "        for key, val in params.items():\n",
    "            f.write(f\"{key} = {val}\\n\")\n",
    "\n",
    "# --- Run ShoreTrans for each type ---\n",
    "def run_shoretrans():\n",
    "    if not shutil.which(\"shoretrans\"):\n",
    "        raise RuntimeError(\"'shoretrans' binary not found in PATH.\")\n",
    "\n",
    "    process = subprocess.Popen(\n",
    "        [\"shoretrans\", str(tutorial_dir)],\n",
    "        stdout=subprocess.PIPE,\n",
    "        stderr=subprocess.STDOUT,\n",
    "    )\n",
    "    for line in process.stdout:\n",
    "        print(line.decode().strip())"
   ]
  },
  {
   "cell_type": "markdown",
   "metadata": {},
   "source": [
    "In the following loop, we configure and run ShoreTrans four times, each using a different rollover strategy.\n",
    "\n",
    "All runs apply the same sea level rise of **1 meter** (`ds = 1.0`) to the same profile, but each one reflects a different\n",
    "translation mechanism for the barrier or dune feature. These types are defined as follows (based on McCarroll et al., 2021):\n",
    "\n",
    "- **Type 1: Full Rollover**\n",
    "  - Represents an unconstrained barrier where the entire profile, including the dune crest, rolls landward.\n",
    "  - Volume is conserved and redistributed onshore.\n",
    "  - Crest height and barrier geometry are preserved but shifted landward.\n",
    "  - We use `toe_crest_index` to specify the barrier's start.\n",
    "\n",
    "- **Type 2: Rollover with crest keep-up**\n",
    "  - The dune crest not only rolls over but also rises to match sea level rise.\n",
    "  - Simulates a natural or managed barrier that grows vertically as sea level rises (e.g., via aeolian deposition or nourishment).\n",
    "\n",
    "- **Type 3: Rollover with fixed crest**\n",
    "  - Similar to Type 2, but the dune crest is not allowed to rise.\n",
    "  - Simulates an eroding or constrained barrier where the crest height is fixed (e.g., due to vegetation, structures, or morphology).\n",
    "\n",
    "- **Type 4: Encroachment (No Rollover)**\n",
    "  - No rollover occurs.\n",
    "  - Profile translates offshore instead, simulating scarping, cliff retreat, or armoring.\n",
    "  - Often associated with hard or erodible barriers where sediment cannot be pushed inland.\n",
    "\n",
    "for more information, please check the original paper [here](https://www.sciencedirect.com/science/article/pii/S0025322721000487)"
   ]
  },
  {
   "cell_type": "code",
   "execution_count": 3,
   "metadata": {},
   "outputs": [],
   "source": [
    "## set up common parameters\n",
    "common = {\n",
    "    \"xshorefilename\": 'transect.txt',\n",
    "    \"doc\": -10,\n",
    "    \"ds\": 1.0,\n",
    "    \"dx\": 1,\n",
    "    \"roll_backslope\": 4}\n",
    "\n",
    "# --- Load initial profile ---\n",
    "initial_profile = np.loadtxt(transect_target, delimiter=\",\", skiprows=1)\n",
    "x = initial_profile[:, 0]\n",
    "z0 = initial_profile[:, 1]"
   ]
  },
  {
   "cell_type": "markdown",
   "metadata": {},
   "source": [
    "## Type 1: Full Rollover\n",
    "\n",
    "This represents a freely migrating barrier.\n",
    "\n",
    "The entire barrier including its crest is allowed to move landward, preserving its shape and elevation.\n",
    "\n",
    "This simulates a natural barrier backed by a lagoon or flatland, with no hard constraints.\n",
    "\n",
    "This is done by setting the 'rollover' setting to 1 (i.e rolling allowed), and the 'toe_crest' or 'toe_crest_index' to a value matching the dune back \n",
    "\n",
    "Here, we define the toe of the crest based on the lagoon toe elevation (e.g., -1.5 m).\n",
    "We find the index of the first point in the profile that exceeds this elevation."
   ]
  },
  {
   "cell_type": "code",
   "execution_count": 4,
   "metadata": {},
   "outputs": [
    {
     "name": "stdout",
     "output_type": "stream",
     "text": [
      "Depth of closure 2 not set, using doc2= -10.10000000\n",
      "Final xi:   -58.0000 m (     -58 grid points)\n",
      "Final volume error (dv): -2.88741940 m3\n",
      "saving final profile to: /home/mtraboulsi/Desktop/tmp_lxshore/tutorials/02_translation_types/z_final.out\n",
      "Program finished in      0.003 seconds.\n"
     ]
    }
   ],
   "source": [
    "lagoon_toe_z = -1.5\n",
    "lagoon_toe_ind = int(round((x[np.where(z0 > -1.5)[0][0]] - x[0]) / common['dx'])) # we need to find the index of the toe after reinterpolating at uniform dx\n",
    "\n",
    "params1 = common.copy()\n",
    "params1.update({\n",
    "    \"toe_crest_index\": lagoon_toe_ind,\n",
    "    \"rollover\": 1\n",
    "})\n",
    "write_parameters(params1, tutorial_dir / \"parameters.dat\")\n",
    "run_shoretrans()\n",
    "z1 = np.loadtxt(output_dir / \"z_final.out\")[:, 1]"
   ]
  },
  {
   "cell_type": "markdown",
   "metadata": {},
   "source": [
    "## Type 2: Crest keep-up\n",
    "\n",
    "assumes the crest elevation increases with sea level. \n",
    "\n",
    "This simulates aeolian deposition or management (like dune building) keeping the crest aligned with rising sea level.\n",
    "\n",
    "The only difference with the previous case is that here the toe_crest is set to the max of the profile.\n",
    "\n",
    " You can either set this manually, or simply by omiting the parameter."
   ]
  },
  {
   "cell_type": "code",
   "execution_count": 5,
   "metadata": {},
   "outputs": [
    {
     "name": "stdout",
     "output_type": "stream",
     "text": [
      "none of the toe/crest values were set, using the maximum of the profile\n",
      "Depth of closure 2 not set, using doc2= -10.10000000\n",
      "Final xi:   -30.0000 m (     -30 grid points)\n",
      "Final volume error (dv): 2.49098244 m3\n",
      "saving final profile to: /home/mtraboulsi/Desktop/tmp_lxshore/tutorials/02_translation_types/z_final.out\n",
      "Program finished in      0.003 seconds.\n"
     ]
    }
   ],
   "source": [
    "params2 = common.copy()\n",
    "params2.update({\n",
    "    \"rollover\": 1\n",
    "})\n",
    "write_parameters(params2, tutorial_dir / \"parameters.dat\")\n",
    "run_shoretrans()\n",
    "z2 = np.loadtxt(output_dir / \"z_final.out\")[:, 1]"
   ]
  },
  {
   "cell_type": "markdown",
   "metadata": {},
   "source": [
    "## Type 3: Crest fixed\n",
    "\n",
    "keeps the crest height constant as it rolls over.\n",
    "\n",
    "This represents barriers with vegetation or development that prevent vertical growth.\n",
    "\n",
    "This is done by setting the rollover parameter to 2. (the toe_crest is also the max of the profile)."
   ]
  },
  {
   "cell_type": "code",
   "execution_count": 6,
   "metadata": {},
   "outputs": [
    {
     "name": "stdout",
     "output_type": "stream",
     "text": [
      "none of the toe/crest values were set, using the maximum of the profile\n",
      "Depth of closure 2 not set, using doc2= -10.10000000\n",
      "Final xi:   -25.0000 m (     -25 grid points)\n",
      "Final volume error (dv): 0.60592308 m3\n",
      "saving final profile to: /home/mtraboulsi/Desktop/tmp_lxshore/tutorials/02_translation_types/z_final.out\n",
      "Program finished in      0.003 seconds.\n"
     ]
    }
   ],
   "source": [
    "params3 = params2.copy()\n",
    "params3[\"rollover\"] = 2\n",
    "write_parameters(params3, tutorial_dir / \"parameters.dat\")\n",
    "run_shoretrans()\n",
    "z3 = np.loadtxt(output_dir / \"z_final.out\")[:, 1]"
   ]
  },
  {
   "cell_type": "markdown",
   "metadata": {},
   "source": [
    "## Type 4: Encroachment \n",
    "This disables rollover (default). The shoreline adjusts seaward, and the profile steepens.\n",
    "\n",
    "\n",
    "This is common in eroding coasts or where hard barriers exist."
   ]
  },
  {
   "cell_type": "code",
   "execution_count": 7,
   "metadata": {},
   "outputs": [
    {
     "name": "stdout",
     "output_type": "stream",
     "text": [
      "none of the toe/crest values were set, using the maximum of the profile\n",
      "Depth of closure 2 not set, using doc2= -10.10000000\n",
      "Final xi:   -22.0000 m (     -22 grid points)\n",
      "Final volume error (dv): -5.31001346 m3\n",
      "saving final profile to: /home/mtraboulsi/Desktop/tmp_lxshore/tutorials/02_translation_types/z_final.out\n",
      "Program finished in      0.004 seconds.\n"
     ]
    }
   ],
   "source": [
    "params4 = params2.copy()\n",
    "params4[\"rollover\"] = 0\n",
    "write_parameters(params4, tutorial_dir / \"parameters.dat\")\n",
    "run_shoretrans()\n",
    "z4 = np.loadtxt(output_dir / \"z_final.out\")[:, 1]"
   ]
  },
  {
   "cell_type": "code",
   "execution_count": 8,
   "metadata": {},
   "outputs": [
    {
     "data": {
      "image/png": "[encoded data removed]",
      "text/plain": [
       "<Figure size 720x432 with 1 Axes>"
      ]
     },
     "metadata": {
      "needs_background": "light"
     },
     "output_type": "display_data"
    }
   ],
   "source": [
    "# NOTE: Since ShoreTrans uses uniform dx, we use the initial profile saved by the model itself\n",
    "initial_profile = np.loadtxt(output_dir / \"initial_profile.out\")\n",
    "x = initial_profile[:, 0]\n",
    "z0 = initial_profile[:, 1]\n",
    "\n",
    "# --- Plot all results ---\n",
    "plt.figure(figsize=(10,6))\n",
    "plt.plot(x, z0, 'k', label=\"Initial Profile\")\n",
    "plt.plot(x, z1, ':b', label=\"Type 1: Full Rollover\")\n",
    "plt.plot(x, z2, ':g', label=\"Type 2: Crest Keep-Up\")\n",
    "plt.plot(x, z3, color='orange', linestyle=':', label=\"Type 3: Crest Fixed\")\n",
    "plt.plot(x, z4, ':r', label=\"Type 4: Encroachment\")\n",
    "plt.title(\"ShoreTrans Profile Translation Types\")\n",
    "plt.xlabel(\"Cross-shore distance (m)\")\n",
    "plt.ylabel(\"Elevation (m)\")\n",
    "plt.grid(True)\n",
    "plt.legend()\n",
    "plt.tight_layout()\n",
    "plt.show()"
   ]
  }
 ],
 "metadata": {
  "kernelspec": {
   "display_name": "Python 3",
   "language": "python",
   "name": "python3"
  },
  "language_info": {
   "codemirror_mode": {
    "name": "ipython",
    "version": 3
   },
   "file_extension": ".py",
   "mimetype": "text/x-python",
   "name": "python",
   "nbconvert_exporter": "python",
   "pygments_lexer": "ipython3",
   "version": "3.6.8"
  }
 },
 "nbformat": 4,
 "nbformat_minor": 2
}
