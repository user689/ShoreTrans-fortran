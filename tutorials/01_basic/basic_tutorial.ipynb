{
 "cells": [
  {
   "cell_type": "markdown",
   "metadata": {},
   "source": [
    "Tutorial 01: Profile translation with sea level rise using ShoreTrans (Type 4: Encroachment)\n",
    "\n",
    "This notebook walks through a basic example of how to use the Fortran version of ShoreTrans\n",
    "from Python, demonstrating its ability to model coastal profile translation under sea level rise.\n",
    "\n",
    "We'll go step-by-step to:\n",
    "1. Prepare input data and parameters\n",
    "2. Run the ShoreTrans model\n",
    "3. Visualize the resulting shoreline profile changes\n",
    "\n",
    "The ShoreTrans model is designed to simulate long-term morphological evolution of coastal profiles\n",
    "(10-100 years), taking into account processes like dune encroachment, armoring, sediment budget,\n",
    "and more. This first example will build on a simple test case, slowly increasing the complexity.\n",
    "\n",
    "Before we begin, make sure you have followed the steps in the readme file to compile shoretrans."
   ]
  },
  {
   "cell_type": "code",
   "execution_count": 49,
   "metadata": {},
   "outputs": [],
   "source": [
    "# Import necessary libraries\n",
    "import os\n",
    "import shutil\n",
    "import subprocess\n",
    "import numpy as np\n",
    "import pandas as pd\n",
    "import matplotlib.pyplot as plt\n",
    "import seaborn as sns\n",
    "from pathlib import Path\n"
   ]
  },
  {
   "cell_type": "markdown",
   "metadata": {},
   "source": [
    "Each ShoreTrans simulation requires a folder with the following structure:\n",
    "\n",
    "```\n",
    "+---inputs\n",
    "+---outputs\n",
    "parameters.dat\n",
    "```\n",
    "\n",
    "- The inputs folder must contain the transect file to be analyzed.\n",
    "\n",
    "- This file should be a plain text file with two columns: \n",
    "x and z (horizontal and vertical coordinates).\n",
    "\n",
    "- The first line of the file must specify the number of points in the transect."
   ]
  },
  {
   "cell_type": "code",
   "execution_count": 70,
   "metadata": {},
   "outputs": [
    {
     "data": {
      "text/html": [
       "<div>\n",
       "<style scoped>\n",
       "    .dataframe tbody tr th:only-of-type {\n",
       "        vertical-align: middle;\n",
       "    }\n",
       "\n",
       "    .dataframe tbody tr th {\n",
       "        vertical-align: top;\n",
       "    }\n",
       "\n",
       "    .dataframe thead th {\n",
       "        text-align: right;\n",
       "    }\n",
       "</style>\n",
       "<table border=\"1\" class=\"dataframe\">\n",
       "  <thead>\n",
       "    <tr style=\"text-align: right;\">\n",
       "      <th></th>\n",
       "      <th>x</th>\n",
       "      <th>z</th>\n",
       "    </tr>\n",
       "  </thead>\n",
       "  <tbody>\n",
       "    <tr>\n",
       "      <th>0</th>\n",
       "      <td>1</td>\n",
       "      <td>0.821797</td>\n",
       "    </tr>\n",
       "    <tr>\n",
       "      <th>1</th>\n",
       "      <td>2</td>\n",
       "      <td>0.836738</td>\n",
       "    </tr>\n",
       "    <tr>\n",
       "      <th>2</th>\n",
       "      <td>3</td>\n",
       "      <td>0.852352</td>\n",
       "    </tr>\n",
       "    <tr>\n",
       "      <th>3</th>\n",
       "      <td>4</td>\n",
       "      <td>0.868945</td>\n",
       "    </tr>\n",
       "    <tr>\n",
       "      <th>4</th>\n",
       "      <td>5</td>\n",
       "      <td>0.885724</td>\n",
       "    </tr>\n",
       "  </tbody>\n",
       "</table>\n",
       "</div>"
      ],
      "text/plain": [
       "   x         z\n",
       "0  1  0.821797\n",
       "1  2  0.836738\n",
       "2  3  0.852352\n",
       "3  4  0.868945\n",
       "4  5  0.885724"
      ]
     },
     "execution_count": 70,
     "metadata": {},
     "output_type": "execute_result"
    }
   ],
   "source": [
    "# Set the base directory and tutorial-specific folder\n",
    "base_dir = Path.cwd()\n",
    "input_dir = base_dir / \"inputs\"\n",
    "output_dir = base_dir / \"outputs\"\n",
    "input_dir.mkdir(exist_ok=True, parents=True)\n",
    "output_dir.mkdir(exist_ok=True)\n",
    "\n",
    "# copy the input files to the input directory\n",
    "transect_source = base_dir.parent / \"data\" / \"tutorial_data.txt\"\n",
    "transect_target = input_dir / \"transect.txt\"\n",
    "shutil.copy(transect_source, transect_target)\n",
    "\n",
    "# visualize the transect data\n",
    "transect_df = pd.read_csv(transect_target, sep=\",\", skiprows=1)\n",
    "transect_df.columns = [\"x\", \"z\"]\n",
    "transect_df.head()"
   ]
  },
  {
   "cell_type": "code",
   "execution_count": 71,
   "metadata": {},
   "outputs": [
    {
     "data": {
      "image/png": "[encoded data removed]",
      "text/plain": [
       "<Figure size 720x360 with 1 Axes>"
      ]
     },
     "metadata": {
      "needs_background": "light"
     },
     "output_type": "display_data"
    }
   ],
   "source": [
    "#plot the transect data\n",
    "plt.figure(figsize=(10, 5))\n",
    "plt.plot(transect_df[\"x\"], transect_df[\"z\"], marker=\"o\", linestyle=\"--\")\n",
    "plt.title(\"Initial Transect\")\n",
    "plt.xlabel(\"X Coordinate\")\n",
    "plt.ylabel(\"Z Coordinate\")\n",
    "plt.grid()\n",
    "plt.show()"
   ]
  },
  {
   "cell_type": "markdown",
   "metadata": {},
   "source": [
    "We begin by visualizing the initial transect to be studied.\n",
    "This gives us a reference for the shoreline profile before any simulation steps.\n",
    "\n",
    "Next, we'll proceed to configure and run the actual simulation by setting up the required parameters.\n",
    "\n",
    "But first, let's define a few helper functions to simplify the workflow."
   ]
  },
  {
   "cell_type": "code",
   "execution_count": 83,
   "metadata": {},
   "outputs": [],
   "source": [
    "# a function to write the parameters to a file\n",
    "def write_parameters(params: dict, filepath: Path):\n",
    "    with open(filepath, \"w\") as f:\n",
    "        for key, val in params.items():\n",
    "            f.write(f\"{key} = {val}\\n\")\n",
    "\n",
    "# a function to run the simulation\n",
    "# this will run the shoretrans binary in the tutorial directory\n",
    "# and will print the output in real-time\n",
    "def run_shoretrans():\n",
    "    if not shutil.which(\"shoretrans\"):\n",
    "        raise RuntimeError(\"'shoretrans' binary not found in PATH. Make sure it is compiled and accessible.\")   \n",
    "    \n",
    "    process = subprocess.Popen(\n",
    "        [\"shoretrans\", str(base_dir)],\n",
    "        stdout=subprocess.PIPE,\n",
    "        stderr=subprocess.STDOUT,\n",
    "    )\n",
    "\n",
    "\n",
    "    for line in process.stdout:\n",
    "        print(line, end=\"\\n\")  # Real-time output\n",
    "\n",
    "# a function to load the profile data\n",
    "def load_profile(filepath):\n",
    "    return np.loadtxt(filepath)"
   ]
  },
  {
   "cell_type": "markdown",
   "metadata": {},
   "source": [
    "Next, we define our parameters, undefined parameters will be taken as a default value. \n",
    "\n",
    "As a minimum the code requires the xshorefilename and the doc.\n",
    "\n",
    "- the grid resolution defaults to 1m, for a better accuracy, you may decrease the value of dx\n",
    "- if not given, the toe_crest value will default to the max point in the profile, this may be useful for certain simulations (see the  next tutorial)\n",
    "- the verbosity level ranges from 0 to 4 depending on the amount of detail you need to add in the output, by default it is 2 (only results are shown)"
   ]
  },
  {
   "cell_type": "code",
   "execution_count": 84,
   "metadata": {},
   "outputs": [],
   "source": [
    "\n",
    "# define the parameters for the simulation\n",
    "params1 = {\n",
    "    \"xshorefilename\": \"transect.txt\",  # Input profile file\n",
    "    \"doc\": -12,                         # Depth of closure (upper shoreface limit)\n",
    "    \"ds\": 0.8,                          # Sea level rise (in meters)\n",
    "    \"toe_crest\": 2.5,                   # Elevation of dune toe or crest\n",
    "    \"dx\": 1.0,                          # Grid resolution (m)\n",
    "    \"verbose\": 4                        # Optional logging verbosity\n",
    "}\n",
    "# write them to parameters.dat in the simulation folder\n",
    "write_parameters(params1, \"parameters.dat\")\n"
   ]
  },
  {
   "cell_type": "code",
   "execution_count": 85,
   "metadata": {},
   "outputs": [
    {
     "name": "stdout",
     "output_type": "stream",
     "text": [
      "b' end of parameter file /home/mtraboulsi/Desktop/tmp_lxshore/tutorials/01_basic/parameters.dat\\n'\n",
      "b' logging level set to      4\\n'\n",
      "b' Reading cross-shore profile from /home/mtraboulsi/Desktop/tmp_lxshore/tutorials/01_basic/inputs/transect.txt\\n'\n",
      "b' Number of points in profile: 1501\\n'\n",
      "b' setting toe/crest index: 196\\n'\n",
      "b' Depth of closure set to: -12.00000000\\n'\n",
      "b' Depth of closure index set to: 1090\\n'\n",
      "b' Depth of closure 2 not set, using doc2= -12.10000000\\n'\n",
      "b' Depth of closure 2 index set to: 1109\\n'\n",
      "b' slumping set to: 1 with slope: 30.00000000 and cap: 100.00000000\\n'\n",
      "b' xupp =                   410 xlow                 -195\\n'\n",
      "b' ds = 0.80000000\\n'\n",
      "b' h = 14.50000000\\n'\n",
      "b' w = 894.00000000\\n'\n",
      "b' Initial estimate (bruun) xi = -49.00000000 m (-49)\\n'\n",
      "b' xi_est                  -49\\n'\n",
      "b' xi =                   -49 error =   -242.60128723290836\\n'\n",
      "b' xi =                   -48 error =   -221.27806031156979\\n'\n",
      "b' xi =                   -50 error =   -263.73978904544492\\n'\n",
      "b'   21.230864366937567     \\n'\n",
      "b' xi_est                  -38\\n'\n",
      "b' xi =                   -38 error =   -21.487533929454003\\n'\n",
      "b' xi =                   -37 error =   -1.5204040411499591\\n'\n",
      "b' xi =                   -39 error =   -41.037316229398130\\n'\n",
      "b'   19.758456094124085     \\n'\n",
      "b' xi_est                  -37\\n'\n",
      "b' Final xi:  -37.000000000000000       m (                  -37 )\\n'\n",
      "b' Final dv (error): -1.52040404\\n'\n",
      "b' saving final profile to: /home/mtraboulsi/Desktop/tmp_lxshore/tutorials/01_basic/z_final.out\\n'\n",
      "b' Program finished in      0.008 seconds.\\n'\n",
      "b' Program finished in      0.008 seconds.\\n'\n"
     ]
    }
   ],
   "source": [
    "# and finally we run shoretrans\n",
    "run_shoretrans()"
   ]
  },
  {
   "cell_type": "markdown",
   "metadata": {},
   "source": [
    "## Interpreting ShoreTrans Output\n",
    "\n",
    "Once ShoreTrans runs, it prints a detailed log of the entire process  including parameter loading, profile reading, depth indexing, and iterative solving for profile translation. This verbose output is helpful for transparency and debugging.\n",
    "\n",
    "However, not all of this information is needed every time. You can reduce the output by setting `verbose = 2` in the parameters file (which is the default level).\n",
    "\n",
    "The most relevant output appears at the end:\n",
    "\n",
    "```\n",
    "Final xi:  -37.000000000000000\n",
    "Final dv (error): -1.52\n",
    "```\n",
    "\n",
    "This value represents the profile shift and volume error (in m³) between the target and the achieved shoreline profile after translation. In this example, an error of -1.52 m³ over a 1.4 km profile is negligible, which means the solution is already very close to the target.\n",
    "\n",
    "Still, we can further improve the precision by using a finer grid resolution (`dx`). In the next step, we will rerun the model with a smaller `dx` value and compare the results."
   ]
  },
  {
   "cell_type": "code",
   "execution_count": 86,
   "metadata": {},
   "outputs": [
    {
     "name": "stdout",
     "output_type": "stream",
     "text": [
      "b' Depth of closure 2 not set, using doc2= -12.10000000\\n'\n",
      "b' xupp =                 41182 xlow               -19525\\n'\n",
      "b' xi_est                -4926\\n'\n",
      "b'  0.20230150141560443     \\n'\n",
      "b' xi_est                -3744\\n'\n",
      "b'  0.20112232263545593     \\n'\n",
      "b' xi_est                -3726\\n'\n",
      "b'  0.20064086726779351     \\n'\n",
      "b' Final xi:  -37.259999999999998       m (                -3726 )\\n'\n",
      "b' Final dv (error): -0.00657977\\n'\n",
      "b' saving final profile to: /home/mtraboulsi/Desktop/tmp_lxshore/tutorials/01_basic/z_final.out\\n'\n",
      "b' Program finished in      0.541 seconds.\\n'\n",
      "b' Program finished in      0.541 seconds.\\n'\n"
     ]
    }
   ],
   "source": [
    "# define the parameters for the simulation\n",
    "params1 = {\n",
    "    \"xshorefilename\": \"transect.txt\",  # Input profile file\n",
    "    \"doc\": -12,                         # Depth of closure (upper shoreface limit)\n",
    "    \"ds\": 0.8,                          # Sea level rise (in meters)\n",
    "    \"toe_crest\": 2.5,                   # Elevation of dune toe or crest\n",
    "    \"dx\": 0.01,                          # Grid resolution (m)\n",
    "    \"verbose\": 2                        # Optional logging verbosity\n",
    "}\n",
    "# write them to parameters.dat in the simulation folder\n",
    "write_parameters(params1, \"parameters.dat\")\n",
    "run_shoretrans()"
   ]
  },
  {
   "cell_type": "markdown",
   "metadata": {},
   "source": [
    "## High-resolution Output (dx = 0.01)\n",
    "\n",
    "By setting `dx = 0.01`, we significantly increased the resolution of the shoreline profile. This results in:\n",
    "\n",
    "- **More precise sediment budget calculations**\n",
    "- **Smaller volume error** (`Final dv`)\n",
    "- **Smoother shoreline translation**\n",
    "\n",
    "In the output, we now see:\n",
    "\n",
    "```\n",
    "Final xi: -37.26 m\n",
    "Final dv (error): -0.0066\n",
    "Program finished in 0.588 seconds.\n",
    "```\n",
    "\n",
    "This means ShoreTrans estimated a shoreline retreat of about **37.26 meters**, and the volume mismatch is now **just 0.0066 m³**  virtually perfect.\n",
    "\n",
    "The trade-off is **computational time**. While the original run (with `dx = 1.0`) took ~0.005 seconds, this high-resolution run took ~0.588 seconds. Still fast but something to consider when scaling up to many profiles or Monte Carlo runs.\n",
    "\n",
    "This confirms that ShoreTrans supports fine-scale modeling and delivers highly accurate results when needed.\n",
    "\n",
    "## Understanding ShoreTrans Output Files\n",
    "\n",
    "After running ShoreTrans, two main output files are created in the `outputs/` folder:\n",
    "\n",
    "- `initial_profile.out`:  \n",
    "  This file contains the interpolated version of the input profile used in the computation.  \n",
    "  It's especially useful when your input transect was coarse or irregular  ShoreTrans resamples it using the specified `dx`, ensuring a uniform grid.\n",
    "\n",
    "- `z_final.out`:  \n",
    "  This is the core result of the simulation  the **translated shoreline profile** after applying sea level rise and any other specified processes (e.g., sediment deficit, seawall, rock layer, etc).  \n",
    "  It contains two columns: cross-shore distance and final elevation.\n",
    "\n",
    "These files are saved in plain text and can be reloaded using any plotting tool or processed further in Python using `numpy.loadtxt()` or `pandas.read_csv()`.\n",
    "\n",
    "Together, they allow you to compare **before and after** profiles with high precision.\n"
   ]
  },
  {
   "cell_type": "code",
   "execution_count": null,
   "metadata": {},
   "outputs": [
    {
     "data": {
      "image/png": "[encoded data removed]",
      "text/plain": [
       "<Figure size 720x360 with 1 Axes>"
      ]
     },
     "metadata": {
      "needs_background": "light"
     },
     "output_type": "display_data"
    }
   ],
   "source": [
    "initial_profile = load_profile(output_dir / \"initial_profile.out\")\n",
    "final_profile = load_profile(output_dir / \"z_final.out\")\n",
    "\n",
    "x = initial_profile[:, 0]\n",
    "z_init = initial_profile[:, 1]\n",
    "z_final = final_profile[:, 1]\n",
    "\n",
    "plt.figure(figsize=(10,5))\n",
    "plt.plot(x, z_init, 'k-', label=\"Interpolated initial profile\")\n",
    "plt.plot(x, z_final, 'r--', label=\"Translated profile (SLR = 0.8 m)\")\n",
    "plt.xlabel(\"Cross-shore distance (m)\")\n",
    "plt.ylabel(\"Elevation (m)\")\n",
    "plt.title(\"ShoreTrans Profile Translation - Encroachment\")\n",
    "plt.legend()\n",
    "plt.grid(True)\n",
    "plt.tight_layout()\n",
    "plt.show()"
   ]
  },
  {
   "cell_type": "code",
   "execution_count": null,
   "metadata": {},
   "outputs": [],
   "source": []
  }
 ],
 "metadata": {
  "kernelspec": {
   "display_name": "Python 3",
   "language": "python",
   "name": "python3"
  },
  "language_info": {
   "codemirror_mode": {
    "name": "ipython",
    "version": 3
   },
   "file_extension": ".py",
   "mimetype": "text/x-python",
   "name": "python",
   "nbconvert_exporter": "python",
   "pygments_lexer": "ipython3",
   "version": "3.6.8"
  }
 },
 "nbformat": 4,
 "nbformat_minor": 2
}
